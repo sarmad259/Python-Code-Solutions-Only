{
 "cells": [
  {
   "cell_type": "code",
   "execution_count": null,
   "metadata": {},
   "outputs": [],
   "source": [
    "percept = ['fire', 'alarm', 'normal']\n",
    "rules = ['Activate sprinklers and call 911', 'Raise alarm', 'Normal']\n",
    "\n",
    "def getState(temperature, smoke):\n",
    "    if temperature > 50 and smoke == 1:\n",
    "        return percept[0]  # Fire state\n",
    "    elif temperature > 50 and smoke == 0:\n",
    "        return percept[0]  # Fire state\n",
    "    elif temperature > 50 and smoke == 1:\n",
    "        return percept[1]  # Alarm state\n",
    "    elif temperature <50 and smoke ==0:\n",
    "        return percept[2]  # Normal state\n",
    "    else :\n",
    "        print (\"Unknown Command\")\n",
    "\n",
    "def getRules(state_value):\n",
    "    for index, i in enumerate(percept):\n",
    "        if i == state_value:\n",
    "            return rules[index]\n",
    "\n",
    "def result(temperature, smoke):\n",
    "    temperature_state = getState(temperature, smoke)\n",
    "    return getRules(temperature_state)\n",
    "\n",
    "# Set a variable to keep track of the number of iterations\n",
    "iteration_count = 0\n",
    "while iteration_count < 10:\n",
    "    temperature_input = float(input(\"Enter the temperature: \"))\n",
    "    smoke_input = int(input(\"Smoke yes or no (1 or 0): \"))\n",
    "    \n",
    "    kam = result(temperature_input, smoke_input)\n",
    "    print(f\"kam: {kam}\")\n",
    "    iteration_count += 1\n"
   ]
  },
  {
   "cell_type": "code",
   "execution_count": 5,
   "metadata": {},
   "outputs": [
    {
     "name": "stdout",
     "output_type": "stream",
     "text": [
      "Bot Will: Deactivate watering system to prevent waterlogging.\n"
     ]
    }
   ],
   "source": [
    "percepts = ['Dry', 'Wet', 'Overwater']\n",
    "actions = [\n",
    "    'Activate watering system to water the plants.',\n",
    "    'Keep watering system off to avoid overwatering.',\n",
    "    'Deactivate watering system to prevent waterlogging.'\n",
    "]\n",
    "\n",
    "def get_state():\n",
    "    situation = input(\"Enter the moisture level (Dry/Wet/Overwater): \").capitalize()\n",
    "    if situation in percepts:\n",
    "        return situation\n",
    "    else:\n",
    "        print(\"Sahi Input karo\")\n",
    "        return get_state()\n",
    "\n",
    "def perform_action(state):\n",
    "    index = percepts.index(state)\n",
    "    action = actions[index]\n",
    "    print(\"Bot Will:\", action)\n",
    "\n",
    "def sending():\n",
    "    state = get_state()\n",
    "    perform_action(state)\n",
    "\n",
    "# Run the agent\n",
    "sending()"
   ]
  }
 ],
 "metadata": {
  "kernelspec": {
   "display_name": "Python 3",
   "language": "python",
   "name": "python3"
  },
  "language_info": {
   "codemirror_mode": {
    "name": "ipython",
    "version": 3
   },
   "file_extension": ".py",
   "mimetype": "text/x-python",
   "name": "python",
   "nbconvert_exporter": "python",
   "pygments_lexer": "ipython3",
   "version": "3.12.0"
  }
 },
 "nbformat": 4,
 "nbformat_minor": 2
}
