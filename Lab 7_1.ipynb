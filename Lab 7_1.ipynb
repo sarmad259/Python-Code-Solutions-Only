{
 "cells": [
  {
   "cell_type": "code",
   "execution_count": 31,
   "metadata": {},
   "outputs": [
    {
     "name": "stdout",
     "output_type": "stream",
     "text": [
      "     pclass  sex   age  sibsp  parch     fare  embark_town\n",
      "0         3    0  22.0      1      0   7.2500            0\n",
      "1         1    1  38.0      1      0  71.2833            1\n",
      "2         3    1  26.0      0      0   7.9250            0\n",
      "3         1    1  35.0      1      0  53.1000            0\n",
      "4         3    0  35.0      0      0   8.0500            0\n",
      "..      ...  ...   ...    ...    ...      ...          ...\n",
      "885       3    1  39.0      0      5  29.1250            2\n",
      "886       2    0  27.0      0      0  13.0000            0\n",
      "887       1    1  19.0      0      0  30.0000            0\n",
      "889       1    0  26.0      0      0  30.0000            1\n",
      "890       3    0  32.0      0      0   7.7500            2\n",
      "\n",
      "[712 rows x 7 columns]\n"
     ]
    }
   ],
   "source": [
    "import seaborn as sns\n",
    "import pandas as pd\n",
    "\n",
    "file = sns.load_dataset(\"titanic\")\n",
    "file = file[[\"pclass\", \"sex\", \"age\", \"sibsp\", \"parch\", \"fare\", \"embark_town\"]]\n",
    "file = file.dropna()\n",
    "file['sex'] = file['sex'].map({'male': 0, 'female': 1})\n",
    "town_mapping = {'Southampton': 0, 'Cherbourg': 1, 'Queenstown': 2}\n",
    "file['embark_town'] = file['embark_town'].map(town_mapping)\n",
    "print(file)\n"
   ]
  }
 ],
 "metadata": {
  "kernelspec": {
   "display_name": "Python 3",
   "language": "python",
   "name": "python3"
  },
  "language_info": {
   "codemirror_mode": {
    "name": "ipython",
    "version": 3
   },
   "file_extension": ".py",
   "mimetype": "text/x-python",
   "name": "python",
   "nbconvert_exporter": "python",
   "pygments_lexer": "ipython3",
   "version": "3.12.0"
  }
 },
 "nbformat": 4,
 "nbformat_minor": 2
}
